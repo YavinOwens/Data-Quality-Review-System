{
  "cells": [
    {
      "cell_type": "code",
      "execution_count": 8,
      "metadata": {},
      "outputs": [],
      "source": [
        "# %% [markdown]\n",
        "# # Polars Basics with PostgreSQL Database\n",
        "# \n",
        "# This notebook demonstrates fundamental Polars operations using data from our PostgreSQL database.\n",
        "# Polars is a fast DataFrame library written in Rust, offering better performance than Pandas.\n",
        "# We'll cover:\n",
        "# 1. Database connection and data loading\n",
        "# 2. Basic DataFrame operations\n",
        "# 3. Data manipulation and cleaning\n",
        "# 4. Data sampling and analysis\n",
        "# 5. Data modeling basics\n",
        "\n",
        "# %% [markdown]\n",
        "# ## 1. Setup and Database Connection\n",
        "# First, let's import the necessary libraries and connect to our database."
      ]
    },
    {
      "cell_type": "code",
      "execution_count": 9,
      "metadata": {},
      "outputs": [
        {
          "data": {
            "text/plain": [
              "polars.config.Config"
            ]
          },
          "execution_count": 9,
          "metadata": {},
          "output_type": "execute_result"
        }
      ],
      "source": [
        "import polars as pl\n",
        "import numpy as np\n",
        "from helpers.db_connection import DatabaseConnection, query_to_df\n",
        "import matplotlib.pyplot as plt\n",
        "import seaborn as sns\n",
        "\n",
        "# Set display options for better readability\n",
        "pl.Config.set_fmt_str_lengths(50)\n",
        "pl.Config.set_tbl_rows(10)\n",
        "pl.Config.set_tbl_cols(10)\n",
        "\n",
        "# %% [markdown]\n",
        "# ## 2. Exploring Database Tables\n",
        "# Let's first see what tables are available in our database."
      ]
    },
    {
      "cell_type": "code",
      "execution_count": 10,
      "metadata": {},
      "outputs": [
        {
          "name": "stdout",
          "output_type": "stream",
          "text": [
            "Available tables in the database:\n",
            "       table_name\n",
            "0       addresses\n",
            "1     assignments\n",
            "2  communications\n",
            "3         workers\n"
          ]
        }
      ],
      "source": [
        "# Query to list all tables in the database\n",
        "tables_query = \"\"\"\n",
        "SELECT table_name \n",
        "FROM information_schema.tables \n",
        "WHERE table_schema = 'public'\n",
        "ORDER BY table_name;\n",
        "\"\"\"\n",
        "\n",
        "# Get list of tables\n",
        "tables_df = query_to_df(tables_query)\n",
        "print(\"Available tables in the database:\")\n",
        "print(tables_df)\n",
        "\n",
        "# %% [markdown]\n",
        "# ## 3. Exploring Table Structures\n",
        "# Let's examine the structure of each table."
      ]
    },
    {
      "cell_type": "code",
      "execution_count": 11,
      "metadata": {},
      "outputs": [
        {
          "name": "stdout",
          "output_type": "stream",
          "text": [
            "\n",
            "Structure of table 'addresses':\n",
            "         column_name          data_type  character_maximum_length\n",
            "0          unique_id               uuid                       NaN\n",
            "1   worker_unique_id               uuid                       NaN\n",
            "2       address_type  character varying                      50.0\n",
            "3      address_line1  character varying                     255.0\n",
            "4      address_line2  character varying                     255.0\n",
            "5               city  character varying                     100.0\n",
            "6              state  character varying                     100.0\n",
            "7        postal_code  character varying                      20.0\n",
            "8            country          character                       2.0\n",
            "9     effective_from               date                       NaN\n",
            "10      effective_to               date                       NaN\n",
            "\n",
            "Structure of table 'assignments':\n",
            "         column_name          data_type  character_maximum_length\n",
            "0          unique_id               uuid                       NaN\n",
            "1   worker_unique_id               uuid                       NaN\n",
            "2  assignment_number  character varying                      50.0\n",
            "3        position_id  character varying                      50.0\n",
            "4      department_id  character varying                      50.0\n",
            "5        location_id  character varying                      50.0\n",
            "6     effective_from               date                       NaN\n",
            "7       effective_to               date                       NaN\n",
            "\n",
            "Structure of table 'communications':\n",
            "        column_name          data_type  character_maximum_length\n",
            "0         unique_id               uuid                       NaN\n",
            "1  worker_unique_id               uuid                       NaN\n",
            "2      contact_type  character varying                      50.0\n",
            "3     contact_value  character varying                     255.0\n",
            "4      primary_flag          character                       1.0\n",
            "5    effective_from               date                       NaN\n",
            "6      effective_to               date                       NaN\n",
            "\n",
            "Structure of table 'workers':\n",
            "        column_name          data_type  character_maximum_length\n",
            "0         unique_id               uuid                       NaN\n",
            "1         person_id  character varying                      50.0\n",
            "2   employee_number  character varying                      50.0\n",
            "3        first_name  character varying                     100.0\n",
            "4         last_name  character varying                     100.0\n",
            "5        birth_date               date                       NaN\n",
            "6               sex          character                       1.0\n",
            "7    marital_status          character                       1.0\n",
            "8       nationality          character                       2.0\n",
            "9    effective_from               date                       NaN\n",
            "10     effective_to               date                       NaN\n"
          ]
        }
      ],
      "source": [
        "# Function to get column information for a table\n",
        "def get_table_structure(table_name):\n",
        "    query = f\"\"\"\n",
        "    SELECT column_name, data_type, character_maximum_length\n",
        "    FROM information_schema.columns\n",
        "    WHERE table_name = '{table_name}'\n",
        "    ORDER BY ordinal_position;\n",
        "    \"\"\"\n",
        "    return query_to_df(query)\n",
        "\n",
        "# Get structure for each table\n",
        "for table in tables_df['table_name']:\n",
        "    print(f\"\\nStructure of table '{table}':\")\n",
        "    print(get_table_structure(table))\n",
        "\n",
        "# %% [markdown]\n",
        "# ## 4. Loading Sample Data\n",
        "# Now that we know the table structure, let's load some sample data."
      ]
    },
    {
      "cell_type": "code",
      "execution_count": null,
      "metadata": {},
      "outputs": [],
      "source": [
        "# Example query to get data from the first table\n",
        "sample_query = f\"\"\"\n",
        "SELECT *\n",
        "FROM {tables_df['table_name'].iloc[0]}\n",
        "LIMIT 1000;\n",
        "\"\"\"\n",
        "\n",
        "# Load data into a Polars DataFrame\n",
        "df = pl.DataFrame(query_to_df(sample_query))\n",
        "\n",
        "# Display basic information about the DataFrame\n",
        "print(\"DataFrame Info:\")\n",
        "print(df.describe())\n",
        "\n",
        "print(\"\\nDataFrame Shape:\")\n",
        "print(df.shape)\n",
        "\n",
        "print(\"\\nDataFrame Columns:\")\n",
        "print(df.columns)\n",
        "\n",
        "# %% [markdown]\n",
        "# ### Viewing Data\n",
        "# Different ways to view the data in our DataFrame."
      ]
    },
    {
      "cell_type": "code",
      "execution_count": null,
      "metadata": {},
      "outputs": [],
      "source": [
        "# Display first 5 rows\n",
        "print(\"First 5 rows:\")\n",
        "print(df.head())\n",
        "\n",
        "# Display last 5 rows\n",
        "print(\"\\nLast 5 rows:\")\n",
        "print(df.tail())\n",
        "\n",
        "# Display middle 5 rows\n",
        "print(\"\\nMiddle 5 rows:\")\n",
        "middle_index = len(df) // 2\n",
        "print(df.slice(middle_index-2, 5))\n",
        "\n",
        "# %% [markdown]\n",
        "# ### Indexing and Selection\n",
        "# Different ways to select and filter data using Polars expressions."
      ]
    },
    {
      "cell_type": "code",
      "execution_count": null,
      "metadata": {},
      "outputs": [],
      "source": [
        "# Select specific columns (if they exist)\n",
        "available_columns = df.columns\n",
        "print(\"Available columns for selection:\")\n",
        "print(available_columns)\n",
        "\n",
        "# Example of column selection and filtering\n",
        "numeric_cols = [col for col in available_columns if df[col].dtype in [pl.Float64, pl.Int64]]\n",
        "if numeric_cols:\n",
        "    print(f\"\\nNumeric columns statistics:\")\n",
        "    print(df.select(numeric_cols).describe())\n",
        "\n",
        "# %% [markdown]\n",
        "# ### Column Operations\n",
        "# How to manipulate columns in the DataFrame using Polars expressions."
      ]
    },
    {
      "cell_type": "code",
      "execution_count": null,
      "metadata": {},
      "outputs": [],
      "source": [
        "# Rename columns example\n",
        "df_renamed = df.rename({col: f\"col_{i}\" for i, col in enumerate(df.columns)})\n",
        "print(\"Renamed columns:\")\n",
        "print(df_renamed.columns)\n",
        "\n",
        "# Drop first column example\n",
        "df_dropped = df.drop(df.columns[0])\n",
        "print(\"\\nDropped first column:\")\n",
        "print(df_dropped.columns)\n",
        "\n",
        "# %% [markdown]\n",
        "# ### Row Operations\n",
        "# How to manipulate rows in the DataFrame."
      ]
    },
    {
      "cell_type": "code",
      "execution_count": null,
      "metadata": {},
      "outputs": [],
      "source": [
        "# Remove rows with missing values\n",
        "df_clean = df.drop_nulls()\n",
        "print(\"Shape after removing missing values:\", df_clean.shape)\n",
        "\n",
        "# Remove duplicate rows\n",
        "df_unique = df.unique()\n",
        "print(\"Shape after removing duplicates:\", df_unique.shape)\n",
        "\n",
        "# %% [markdown]\n",
        "# ## 5. Data Analysis\n",
        "# Different ways to analyze the data."
      ]
    },
    {
      "cell_type": "code",
      "execution_count": null,
      "metadata": {},
      "outputs": [],
      "source": [
        "# Basic statistics for numeric columns\n",
        "print(\"Basic statistics for numeric columns:\")\n",
        "print(df.describe())\n",
        "\n",
        "# Group by example (if categorical columns exist)\n",
        "categorical_cols = [col for col in available_columns if df[col].dtype == pl.Utf8]\n",
        "if categorical_cols and numeric_cols:\n",
        "    print(f\"\\nGroup by example using {categorical_cols[0]} and {numeric_cols[0]}:\")\n",
        "    print(\n",
        "        df.groupby(categorical_cols[0])\n",
        "        .agg(pl.col(numeric_cols[0]).mean().alias('mean_value'))\n",
        "        .sort('mean_value', descending=True)\n",
        "    )\n",
        "\n",
        "# %% [markdown]\n",
        "# ## 6. Data Export\n",
        "# How to export our processed data."
      ]
    },
    {
      "cell_type": "code",
      "execution_count": null,
      "metadata": {},
      "outputs": [],
      "source": [
        "# Export to CSV\n",
        "df.write_csv('processed_data_polars.csv')\n",
        "\n",
        "# Export to Parquet (Polars' preferred format)\n",
        "df.write_parquet('processed_data_polars.parquet')\n",
        "\n",
        "# %% [markdown]\n",
        "# ## 7. Performance Comparison\n",
        "# Let's compare the performance of some operations between Pandas and Polars."
      ]
    },
    {
      "cell_type": "code",
      "execution_count": null,
      "metadata": {},
      "outputs": [],
      "source": [
        "import time\n",
        "import pandas as pd\n",
        "\n",
        "# Create a large dataset for comparison\n",
        "large_df = pl.DataFrame({\n",
        "    'A': np.random.randn(1000000),\n",
        "    'B': np.random.randn(1000000),\n",
        "    'C': np.random.randn(1000000)\n",
        "})\n",
        "\n",
        "# Convert to Pandas for comparison\n",
        "pandas_df = large_df.to_pandas()\n",
        "\n",
        "# Test groupby operation\n",
        "start_time = time.time()\n",
        "polars_result = large_df.groupby('A').agg(pl.col('B').mean())\n",
        "polars_time = time.time() - start_time\n",
        "\n",
        "start_time = time.time()\n",
        "pandas_result = pandas_df.groupby('A')['B'].mean()\n",
        "pandas_time = time.time() - start_time\n",
        "\n",
        "print(f\"Polars groupby time: {polars_time:.4f} seconds\")\n",
        "print(f\"Pandas groupby time: {pandas_time:.4f} seconds\")\n",
        "print(f\"Polars is {pandas_time/polars_time:.2f}x faster\") "
      ]
    }
  ],
  "metadata": {
    "anaconda-cloud": {},
    "kernelspec": {
      "display_name": ".venv",
      "language": "python",
      "name": "python3"
    },
    "language_info": {
      "codemirror_mode": {
        "name": "ipython",
        "version": 3
      },
      "file_extension": ".py",
      "mimetype": "text/x-python",
      "name": "python",
      "nbconvert_exporter": "python",
      "pygments_lexer": "ipython3",
      "version": "3.11.7"
    }
  },
  "nbformat": 4,
  "nbformat_minor": 4
}
